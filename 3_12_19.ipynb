{
  "nbformat": 4,
  "nbformat_minor": 0,
  "metadata": {
    "colab": {
      "name": "3-12-19",
      "provenance": [],
      "collapsed_sections": [],
      "include_colab_link": true
    },
    "kernelspec": {
      "name": "python3",
      "display_name": "Python 3"
    }
  },
  "cells": [
    {
      "cell_type": "markdown",
      "metadata": {
        "id": "view-in-github",
        "colab_type": "text"
      },
      "source": [
        "<a href=\"https://colab.research.google.com/github/shiva653/python/blob/master/3_12_19.ipynb\" target=\"_parent\"><img src=\"https://colab.research.google.com/assets/colab-badge.svg\" alt=\"Open In Colab\"/></a>"
      ]
    },
    {
      "cell_type": "code",
      "metadata": {
        "id": "rElZ-m0r9Fg7",
        "colab_type": "code",
        "colab": {}
      },
      "source": [
        ""
      ],
      "execution_count": 0,
      "outputs": []
    },
    {
      "cell_type": "markdown",
      "metadata": {
        "id": "U3b07I-M9MG2",
        "colab_type": "text"
      },
      "source": [
        "# markdown\n",
        "## markdown\n",
        "### insert a image\n",
        "![text](https://images.pexels.com/photos/414612/pexels-photo-414612.jpeg?auto=compress&cs=tinysrgb&dpr=2&h=650&w=940)\n",
        "### insert a site\n",
        "[site](https://images.pexels.com/photos/414612/pexels-photo-414612.jpeg?auto=compress&cs=tinysrgb&dpr=2&h=650&w=940)\n",
        "###**bold and single*italic text\n",
        "### for craeating ordered list\n",
        "1. abc\n",
        "2. efg\n",
        "    1. a\n",
        "    2. b\n"
      ]
    },
    {
      "cell_type": "markdown",
      "metadata": {
        "id": "KZFICVj_CQFv",
        "colab_type": "text"
      },
      "source": [
        ""
      ]
    },
    {
      "cell_type": "code",
      "metadata": {
        "id": "BwQMPcu3CU7e",
        "colab_type": "code",
        "colab": {}
      },
      "source": [
        ""
      ],
      "execution_count": 0,
      "outputs": []
    },
    {
      "cell_type": "markdown",
      "metadata": {
        "id": "hPNsEZnRCVTl",
        "colab_type": "text"
      },
      "source": [
        "###** bold and single* italic text\n",
        "**gitam**<br>\n",
        "*gitam*"
      ]
    },
    {
      "cell_type": "code",
      "metadata": {
        "id": "yHpiRGd-Ejgu",
        "colab_type": "code",
        "outputId": "3ed38200-d6cd-43c8-a8df-760a49dd1e77",
        "colab": {
          "base_uri": "https://localhost:8080/",
          "height": 34
        }
      },
      "source": [
        "name = \"gitam\"\n",
        "print(\"university:\"+ name)"
      ],
      "execution_count": 0,
      "outputs": [
        {
          "output_type": "stream",
          "text": [
            "university:gitam\n"
          ],
          "name": "stdout"
        }
      ]
    },
    {
      "cell_type": "code",
      "metadata": {
        "id": "IVavf_jFEje2",
        "colab_type": "code",
        "outputId": "2d4b9fc2-0ebb-4a49-930c-d5fdcc9d04b7",
        "colab": {
          "base_uri": "https://localhost:8080/",
          "height": 68
        }
      },
      "source": [
        "name = input(\"enter a name\")\n",
        "age = int(input(\"enter age\"))\n",
        "print(\"my name is:\",name,\"and my age is:\",age)"
      ],
      "execution_count": 0,
      "outputs": [
        {
          "output_type": "stream",
          "text": [
            "enter a nameshiva\n",
            "enter age16\n",
            "my name is: shiva and my age is: 16\n"
          ],
          "name": "stdout"
        }
      ]
    },
    {
      "cell_type": "markdown",
      "metadata": {
        "id": "urM72Z2rFlUR",
        "colab_type": "text"
      },
      "source": [
        "## take two inputs and do the folllowing arithmatic operations"
      ]
    },
    {
      "cell_type": "code",
      "metadata": {
        "id": "wmSMUcW-GQRg",
        "colab_type": "code",
        "outputId": "9ecf0540-fc87-41a5-d3bc-d73ef3f3aabd",
        "colab": {
          "base_uri": "https://localhost:8080/",
          "height": 68
        }
      },
      "source": [
        "a = int(input(\"enter first integer\"))\n",
        "b = int(input(\"enter second integer\"))\n",
        "c = a+b\n",
        "d = a-b\n",
        "e = a*b\n",
        "f = a/b\n",
        "print(\"addition:\",c,\"sub\",d,\"multipication\",e,\"divison\",f)"
      ],
      "execution_count": 0,
      "outputs": [
        {
          "output_type": "stream",
          "text": [
            "enter first integer10\n",
            "enter second integer20\n",
            "addition: 30 sub -10 multipication 200 divison 0.5\n"
          ],
          "name": "stdout"
        }
      ]
    },
    {
      "cell_type": "markdown",
      "metadata": {
        "id": "eRgR5yTIICbl",
        "colab_type": "text"
      },
      "source": [
        "### fundamental data types:\n",
        "1. int\n",
        "2. float\n",
        "3. complex\n",
        "4. boolean\n",
        "5. string\n"
      ]
    },
    {
      "cell_type": "code",
      "metadata": {
        "id": "4mD3Lx6QIff5",
        "colab_type": "code",
        "outputId": "03324ee3-809b-4aaf-d140-49f1f9ab3258",
        "colab": {
          "base_uri": "https://localhost:8080/",
          "height": 34
        }
      },
      "source": [
        "a = 10\n",
        "b = 12.05\n",
        "c = 5+5j\n",
        "print(type(a),type(b),type(c))"
      ],
      "execution_count": 0,
      "outputs": [
        {
          "output_type": "stream",
          "text": [
            "<class 'int'> <class 'float'> <class 'complex'>\n"
          ],
          "name": "stdout"
        }
      ]
    },
    {
      "cell_type": "code",
      "metadata": {
        "id": "MUam1RBKJRlP",
        "colab_type": "code",
        "outputId": "67d50304-e8e9-401c-a430-3157c06542f8",
        "colab": {
          "base_uri": "https://localhost:8080/",
          "height": 34
        }
      },
      "source": [
        "c = complex(2,3)\n",
        "print(c)"
      ],
      "execution_count": 0,
      "outputs": [
        {
          "output_type": "stream",
          "text": [
            "(2+3j)\n"
          ],
          "name": "stdout"
        }
      ]
    },
    {
      "cell_type": "code",
      "metadata": {
        "id": "OqdNg8CzKVuj",
        "colab_type": "code",
        "outputId": "0c1c000d-4ade-4665-cded-a612accbca00",
        "colab": {
          "base_uri": "https://localhost:8080/",
          "height": 68
        }
      },
      "source": [
        "c1 = 3+5j\n",
        "c2 = 6+7j\n",
        "print(c1+c2)\n",
        "print(c1-c2)\n",
        "print(c1*c2)"
      ],
      "execution_count": 0,
      "outputs": [
        {
          "output_type": "stream",
          "text": [
            "(9+12j)\n",
            "(-3-2j)\n",
            "(-17+51j)\n"
          ],
          "name": "stdout"
        }
      ]
    },
    {
      "cell_type": "markdown",
      "metadata": {
        "id": "TA-Q_BkdKzP_",
        "colab_type": "text"
      },
      "source": [
        "## boolean\n",
        "\n"
      ]
    },
    {
      "cell_type": "code",
      "metadata": {
        "id": "BS3dBBEUK31P",
        "colab_type": "code",
        "outputId": "569a6a52-1acf-4eb9-e70b-2b354d032cd3",
        "colab": {
          "base_uri": "https://localhost:8080/",
          "height": 34
        }
      },
      "source": [
        "a = 10\n",
        "b = 20\n",
        "a>b"
      ],
      "execution_count": 0,
      "outputs": [
        {
          "output_type": "execute_result",
          "data": {
            "text/plain": [
              "False"
            ]
          },
          "metadata": {
            "tags": []
          },
          "execution_count": 9
        }
      ]
    },
    {
      "cell_type": "code",
      "metadata": {
        "id": "I43XKP23LI4_",
        "colab_type": "code",
        "outputId": "cce6e475-3507-4294-e9f7-5d49fdb3fc73",
        "colab": {
          "base_uri": "https://localhost:8080/",
          "height": 34
        }
      },
      "source": [
        "s1 = \"abc\"\n",
        "s2 = \"xyz\"\n",
        "print(type(s1),type(s2))"
      ],
      "execution_count": 0,
      "outputs": [
        {
          "output_type": "stream",
          "text": [
            "<class 'str'> <class 'str'>\n"
          ],
          "name": "stdout"
        }
      ]
    },
    {
      "cell_type": "code",
      "metadata": {
        "id": "mkqe6obyL-9q",
        "colab_type": "code",
        "outputId": "c6024389-0a30-42fe-b6fe-e154ee355300",
        "colab": {
          "base_uri": "https://localhost:8080/",
          "height": 85
        }
      },
      "source": [
        "s1 = \"100\"\n",
        "print(type(s1))\n",
        "a  = int(s1)\n",
        "print(type(a))\n",
        "f = 1.5\n",
        "a1 = int(f)\n",
        "print(type(a1))\n",
        "print(a1)\n"
      ],
      "execution_count": 0,
      "outputs": [
        {
          "output_type": "stream",
          "text": [
            "<class 'str'>\n",
            "<class 'int'>\n",
            "<class 'int'>\n",
            "1\n"
          ],
          "name": "stdout"
        }
      ]
    },
    {
      "cell_type": "code",
      "metadata": {
        "id": "eCDlGnDgN0ZK",
        "colab_type": "code",
        "outputId": "d4278645-52f1-4983-ed8a-fc6d48fce1ae",
        "colab": {
          "base_uri": "https://localhost:8080/",
          "height": 34
        }
      },
      "source": [
        "a1 = 1234\n",
        "print(len(str(a1)))"
      ],
      "execution_count": 0,
      "outputs": [
        {
          "output_type": "stream",
          "text": [
            "4\n"
          ],
          "name": "stdout"
        }
      ]
    },
    {
      "cell_type": "markdown",
      "metadata": {
        "id": "9NgSA2gjOO4f",
        "colab_type": "text"
      },
      "source": [
        "# operators\n",
        "1. arthametic opertaors --->+,-,*,%,//,**\n",
        "2. logical operators ---> and,or,not\n",
        "3. relational operators ---> >,<,>=,<=,==,!=\n",
        "4. membership operators ---> in,not in\n"
      ]
    },
    {
      "cell_type": "code",
      "metadata": {
        "id": "183FjGM7Po1a",
        "colab_type": "code",
        "outputId": "e50f82c3-bf0e-4604-da36-68d3a38cbb43",
        "colab": {
          "base_uri": "https://localhost:8080/",
          "height": 136
        }
      },
      "source": [
        "n1 = 12\n",
        "n2 = 21\n",
        "print(n1+n2)\n",
        "print(n1-n2)\n",
        "print(n1*n2)\n",
        "print(n1%n2)\n",
        "print(n1/n2)\n",
        "print(n1//n2)\n",
        "print(n1**n2)\n"
      ],
      "execution_count": 0,
      "outputs": [
        {
          "output_type": "stream",
          "text": [
            "33\n",
            "-9\n",
            "252\n",
            "12\n",
            "0.5714285714285714\n",
            "0\n",
            "46005119909369701466112\n"
          ],
          "name": "stdout"
        }
      ]
    },
    {
      "cell_type": "markdown",
      "metadata": {
        "id": "yp3G4SqIRD05",
        "colab_type": "text"
      },
      "source": [
        "# relational operators\n"
      ]
    },
    {
      "cell_type": "code",
      "metadata": {
        "id": "86oqgiSkRWI3",
        "colab_type": "code",
        "outputId": "481ea918-5432-419d-976e-58828b2af544",
        "colab": {
          "base_uri": "https://localhost:8080/",
          "height": 85
        }
      },
      "source": [
        "print(n1==n2)\n",
        "print(n1!=n2)\n",
        "print(n1<n2)\n",
        "print(n1>n2)"
      ],
      "execution_count": 0,
      "outputs": [
        {
          "output_type": "stream",
          "text": [
            "False\n",
            "True\n",
            "True\n",
            "False\n"
          ],
          "name": "stdout"
        }
      ]
    },
    {
      "cell_type": "markdown",
      "metadata": {
        "id": "qkPORSfVR5nD",
        "colab_type": "text"
      },
      "source": [
        "# logiacal operators\n"
      ]
    },
    {
      "cell_type": "code",
      "metadata": {
        "id": "tbqIm-NlSCd8",
        "colab_type": "code",
        "outputId": "98872d1e-4740-4ec8-eb6e-7a7ff6e04f56",
        "colab": {
          "base_uri": "https://localhost:8080/",
          "height": 68
        }
      },
      "source": [
        "n1 =20\n",
        "print(n1>=10 and n1<=n2)\n",
        "print(n1>=10 or n1<=n2)\n",
        "print(not n1)"
      ],
      "execution_count": 0,
      "outputs": [
        {
          "output_type": "stream",
          "text": [
            "True\n",
            "True\n",
            "False\n"
          ],
          "name": "stdout"
        }
      ]
    },
    {
      "cell_type": "markdown",
      "metadata": {
        "id": "3WIu5ogPVnuf",
        "colab_type": "text"
      },
      "source": [
        "# relationl operators"
      ]
    },
    {
      "cell_type": "code",
      "metadata": {
        "id": "iWkMjN6JVzCZ",
        "colab_type": "code",
        "outputId": "7d2e400f-56e3-4833-efa2-ec1fff4d14fd",
        "colab": {
          "base_uri": "https://localhost:8080/",
          "height": 119
        }
      },
      "source": [
        "a = 10\n",
        "b = 20\n",
        "print(a>b)\n",
        "print(a<b)\n",
        "print(a==b)\n",
        "print(a!=b)\n",
        "print(a<=b)\n",
        "print(a>=b)"
      ],
      "execution_count": 0,
      "outputs": [
        {
          "output_type": "stream",
          "text": [
            "False\n",
            "True\n",
            "False\n",
            "True\n",
            "True\n",
            "False\n"
          ],
          "name": "stdout"
        }
      ]
    },
    {
      "cell_type": "markdown",
      "metadata": {
        "id": "1WBD3wqiXGpb",
        "colab_type": "text"
      },
      "source": [
        "# membership operators\n",
        "## in ---> true if value is found in sequence\n",
        "## not in ---> true if value not found insequence\n"
      ]
    },
    {
      "cell_type": "code",
      "metadata": {
        "id": "R65vq3trXiQE",
        "colab_type": "code",
        "outputId": "884c0d75-db33-4890-e9bf-eb29cfe49641",
        "colab": {
          "base_uri": "https://localhost:8080/",
          "height": 68
        }
      },
      "source": [
        "f = [1,2,3,4]\n",
        "print(1 in f)\n",
        "print(5 in f)\n",
        "print (6 not in f)"
      ],
      "execution_count": 0,
      "outputs": [
        {
          "output_type": "stream",
          "text": [
            "True\n",
            "False\n",
            "True\n"
          ],
          "name": "stdout"
        }
      ]
    },
    {
      "cell_type": "markdown",
      "metadata": {
        "id": "QxZktU-JZWmu",
        "colab_type": "text"
      },
      "source": [
        "## conditional operators\n",
        "1. if\n",
        "2. else\n",
        "3. elif\n",
        "## syntax:\n",
        "#### if conditon:\n",
        "> statements<br>\n",
        "#### else:\n",
        "> statements\n"
      ]
    },
    {
      "cell_type": "code",
      "metadata": {
        "id": "efOoyeyTaFHB",
        "colab_type": "code",
        "outputId": "fca6ec47-3c7c-4575-ca5e-28050da103fb",
        "colab": {
          "base_uri": "https://localhost:8080/",
          "height": 51
        }
      },
      "source": [
        "n = int(input(\"enter a number\"))\n",
        "if n%2 ==0:\n",
        "  print(\"even\")\n",
        "else:\n",
        "  print(\"odd\")\n",
        "  "
      ],
      "execution_count": 0,
      "outputs": [
        {
          "output_type": "stream",
          "text": [
            "enter a number6\n",
            "even\n"
          ],
          "name": "stdout"
        }
      ]
    },
    {
      "cell_type": "markdown",
      "metadata": {
        "id": "wKz4lIAObAtZ",
        "colab_type": "text"
      },
      "source": [
        "### to check given number is multiple of 3 and 5\n"
      ]
    },
    {
      "cell_type": "code",
      "metadata": {
        "id": "wciYhMh9bLbA",
        "colab_type": "code",
        "outputId": "8a137319-cc8f-4ab2-cbec-c958f11b28ce",
        "colab": {
          "base_uri": "https://localhost:8080/",
          "height": 51
        }
      },
      "source": [
        "n = int(input(\"enter a number\"))\n",
        "if n%3 ==0 and n%5 ==0:\n",
        "  print(\"multiple of 3 and 5\")\n",
        "else:\n",
        "  print(\"given number isnt multiple of 3 and 5\")\n",
        "  "
      ],
      "execution_count": 0,
      "outputs": [
        {
          "output_type": "stream",
          "text": [
            "enter a number9\n",
            "given number isnt multiple of 3 and 5\n"
          ],
          "name": "stdout"
        }
      ]
    },
    {
      "cell_type": "code",
      "metadata": {
        "id": "rfB5kDsWd7CM",
        "colab_type": "code",
        "outputId": "78c6504a-4909-4b90-c870-f1b84d97bd22",
        "colab": {
          "base_uri": "https://localhost:8080/",
          "height": 51
        }
      },
      "source": [
        "n =int(input(\"enter a number\"))\n",
        "if n>0:\n",
        "  print(\"positive\")\n",
        "elif n<0:\n",
        "    print(\"negitive\")\n",
        "else :\n",
        "  print(\"equal to zero\")"
      ],
      "execution_count": 0,
      "outputs": [
        {
          "output_type": "stream",
          "text": [
            "enter a number-1\n",
            "negitive\n"
          ],
          "name": "stdout"
        }
      ]
    },
    {
      "cell_type": "markdown",
      "metadata": {
        "id": "5CCVsTFbfjdT",
        "colab_type": "text"
      },
      "source": [
        "### Check the input year is a leap year\n"
      ]
    },
    {
      "cell_type": "code",
      "metadata": {
        "id": "KffqlnkYftK8",
        "colab_type": "code",
        "outputId": "52f9fb2c-24ed-415f-9eca-2acd9e99adee",
        "colab": {
          "base_uri": "https://localhost:8080/",
          "height": 51
        }
      },
      "source": [
        "year = int(input(\"enter the year\"))\n",
        "if year % 400 == 0 or (year % 100 != 0 and year %4 == 0 ):\n",
        "  print(\"leap year\")\n",
        "else:\n",
        "  print(\"not a leap year\")"
      ],
      "execution_count": 0,
      "outputs": [
        {
          "output_type": "stream",
          "text": [
            "enter the year2096\n",
            "leap year\n"
          ],
          "name": "stdout"
        }
      ]
    },
    {
      "cell_type": "markdown",
      "metadata": {
        "id": "D302EWONi0lq",
        "colab_type": "text"
      },
      "source": [
        "# loops\n",
        "## 1.while loop\n",
        "## 2.for loop"
      ]
    },
    {
      "cell_type": "code",
      "metadata": {
        "id": "UjMU2hvsi9Hb",
        "colab_type": "code",
        "colab": {}
      },
      "source": [
        "n = int(input(\"enter a number\"))\n",
        "i = 1\n",
        "while i<= n:\n",
        "  print(i,end=\" \")\n",
        "  i = i+1\n"
      ],
      "execution_count": 0,
      "outputs": []
    },
    {
      "cell_type": "markdown",
      "metadata": {
        "id": "Sc0VnumNkcFi",
        "colab_type": "text"
      },
      "source": [
        "### output should be sum of evn=en no's from 1 to n\n"
      ]
    },
    {
      "cell_type": "code",
      "metadata": {
        "id": "f8STIQz3knR6",
        "colab_type": "code",
        "outputId": "db02e085-6d64-49b9-e2d3-1073bd73c9cf",
        "colab": {
          "base_uri": "https://localhost:8080/",
          "height": 34
        }
      },
      "source": [
        "n = int(input(\"enter a number\"))\n",
        "i = 1\n",
        "S = 1\n",
        "while i <= n:\n",
        "  if i % 2 == 0:\n",
        "    s = s+i\n",
        "    i = i+1\n",
        "print(s)\n"
      ],
      "execution_count": 0,
      "outputs": [
        {
          "output_type": "stream",
          "text": [
            "enter a number10\n"
          ],
          "name": "stdout"
        }
      ]
    }
  ]
}